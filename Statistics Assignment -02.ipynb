{
 "cells": [
  {
   "cell_type": "markdown",
   "id": "a08476a4",
   "metadata": {},
   "source": [
    "# Q1. What are the three measures of central tendency?"
   ]
  },
  {
   "cell_type": "markdown",
   "id": "932d288f",
   "metadata": {},
   "source": [
    " The three meaasures of central Tendency are :\n",
    " 1) mean\n",
    " 2) median\n",
    " 3) mode"
   ]
  },
  {
   "cell_type": "markdown",
   "id": "f9c3bbfd",
   "metadata": {},
   "source": [
    "# Q2. What is the difference between the mean, median, and mode? How are they used to measure the central tendency of a dataset?"
   ]
  },
  {
   "cell_type": "markdown",
   "id": "74903387",
   "metadata": {},
   "source": [
    "The mean, median, and mode are measures of central tendency used to describe the \"center\" or typical value of a dataset. Here's a simple explanation of the differences and how they're used:\n",
    "\n",
    "1. Mean (Average):\n",
    "   - The mean is the sum of all the values in a dataset divided by the number of values.\n",
    "   - It's used to find the \"average\" value in the dataset.\n",
    "   - Sensitive to extreme values (outliers), as they can significantly affect the mean.\n",
    "\n",
    "2. Median:\n",
    "   - The median is the middle value when the data is ordered from smallest to largest (or vice versa).\n",
    "   - It's used to find the middle value in a dataset.\n",
    "   - Less affected by extreme values; it's the value at the center of the dataset.\n",
    "\n",
    "3. Mode:\n",
    "   - The mode is the value that occurs most frequently in the dataset.\n",
    "   - It's used to find the most common value in a dataset.\n",
    "   - A dataset can have no mode, one mode (if one value occurs most often), or multiple modes (if multiple values have the same highest frequency).\n",
    "\n",
    "In summary:\n",
    "- Use the mean when you want to find the typical value and are okay with it being influenced by extreme values.\n",
    "- Use the median when you want a value that's less affected by extreme values.\n",
    "- Use the mode when you want to identify the most common value in the dataset.\n",
    "\n",
    "Each measure provides a different perspective on the central tendency of data, and the choice of which one to use depends on the characteristics of your dataset and the specific insights you're looking to gain."
   ]
  },
  {
   "cell_type": "markdown",
   "id": "ecb16e16",
   "metadata": {},
   "source": [
    "# Q3. Measure the three measures of central tendency for the given height data:\n",
    "[178,177,176,177,178.2,178,175,179,180,175,178.9,176.2,177,172.5,178,176.5]"
   ]
  },
  {
   "cell_type": "code",
   "execution_count": 1,
   "id": "6b2ba6b2",
   "metadata": {},
   "outputs": [],
   "source": [
    "# 3 measures of centarl tendency\n",
    "import numpy as np\n",
    "a = [178,177,176,177,178.2,178,175,179,180,175,178.9,176.2,177,172.5,178,176.5]\n"
   ]
  },
  {
   "cell_type": "code",
   "execution_count": 4,
   "id": "a370690d",
   "metadata": {},
   "outputs": [
    {
     "data": {
      "text/plain": [
       "177.01875"
      ]
     },
     "execution_count": 4,
     "metadata": {},
     "output_type": "execute_result"
    }
   ],
   "source": [
    "# mean\n",
    "np.mean(a)"
   ]
  },
  {
   "cell_type": "code",
   "execution_count": 5,
   "id": "c0329245",
   "metadata": {},
   "outputs": [
    {
     "data": {
      "text/plain": [
       "177.0"
      ]
     },
     "execution_count": 5,
     "metadata": {},
     "output_type": "execute_result"
    }
   ],
   "source": [
    "# meadian\n",
    "np.median(a)"
   ]
  },
  {
   "cell_type": "code",
   "execution_count": 7,
   "id": "842fe827",
   "metadata": {},
   "outputs": [],
   "source": [
    "from scipy import stats as st"
   ]
  },
  {
   "cell_type": "code",
   "execution_count": 8,
   "id": "c389d5cc",
   "metadata": {},
   "outputs": [
    {
     "name": "stderr",
     "output_type": "stream",
     "text": [
      "C:\\Users\\DELL\\AppData\\Local\\Temp\\ipykernel_5800\\1319879173.py:1: FutureWarning: Unlike other reduction functions (e.g. `skew`, `kurtosis`), the default behavior of `mode` typically preserves the axis it acts along. In SciPy 1.11.0, this behavior will change: the default value of `keepdims` will become False, the `axis` over which the statistic is taken will be eliminated, and the value None will no longer be accepted. Set `keepdims` to True or False to avoid this warning.\n",
      "  st.mode(a)\n"
     ]
    },
    {
     "data": {
      "text/plain": [
       "ModeResult(mode=array([177.]), count=array([3]))"
      ]
     },
     "execution_count": 8,
     "metadata": {},
     "output_type": "execute_result"
    }
   ],
   "source": [
    "st.mode(a)"
   ]
  },
  {
   "cell_type": "markdown",
   "id": "a9f169ad",
   "metadata": {},
   "source": [
    "# Q4. Find the standard deviation for the given data:\n",
    "[178,177,176,177,178.2,178,175,179,180,175,178.9,176.2,177,172.5,178,176.5]"
   ]
  },
  {
   "cell_type": "code",
   "execution_count": 9,
   "id": "e23c665a",
   "metadata": {},
   "outputs": [
    {
     "data": {
      "text/plain": [
       "1.7885814036548633"
      ]
     },
     "execution_count": 9,
     "metadata": {},
     "output_type": "execute_result"
    }
   ],
   "source": [
    "b = [178,177,176,177,178.2,178,175,179,180,175,178.9,176.2,177,172.5,178,176.5]\n",
    "np.std(b)"
   ]
  },
  {
   "cell_type": "markdown",
   "id": "c5b2a9c1",
   "metadata": {},
   "source": [
    "# Q5. How are measures of dispersion such as range, variance, and standard deviation used to describe the spread of a dataset? Provide an example."
   ]
  },
  {
   "cell_type": "markdown",
   "id": "e659320d",
   "metadata": {},
   "source": [
    "Measures of dispersion, such as range, variance, and standard deviation, are used to describe how the values in a dataset are spread out or dispersed. Here's a simple explanation of how they work and an example:\n",
    "\n",
    "1. Range:\n",
    "   - The range is the simplest measure of dispersion. It's the difference between the highest and lowest values in a dataset.\n",
    "   - It provides an idea of the total spread of the data.\n",
    "   - Example: If you have a dataset of test scores (in percentage) for a class, and the highest score is 95% and the lowest score is 60%, the range is 35% (95% - 60%).\n",
    "\n",
    "2. Variance:\n",
    "   - Variance measures how individual data points vary from the mean (average) of the dataset.\n",
    "   - It calculates the average of the squared differences between each data point and the mean.\n",
    "   - A higher variance indicates greater spread or dispersion.\n",
    "   - Example: In a dataset of ages, if the mean age is 30, and data points vary from the mean by 5, 10, and 15 years, the variance would be calculated based on these differences.\n",
    "\n",
    "3. Standard Deviation:\n",
    "   - The standard deviation is the square root of the variance. It gives a measure of how much the data points deviate from the mean on average.\n",
    "   - It's a widely used measure of dispersion and provides a value in the same units as the data.\n",
    "   - A higher standard deviation indicates more significant variability in the data.\n",
    "   - Example: If the standard deviation of a dataset of test scores is 7 points, it means that, on average, scores deviate from the mean score by 7 points.\n",
    "\n",
    "In summary, range provides a simple measure of the total spread, while variance and standard deviation provide more detailed information about how the data points differ from the mean. These measures are valuable for understanding the variability and dispersion within a dataset, which can be crucial for making informed decisions and drawing conclusions in various fields, such as statistics, finance, and science."
   ]
  },
  {
   "cell_type": "markdown",
   "id": "3309a0de",
   "metadata": {},
   "source": [
    "# Q6. What is a Venn diagram?"
   ]
  },
  {
   "cell_type": "markdown",
   "id": "7356604d",
   "metadata": {},
   "source": [
    "A Venn diagram is a simple and visual way to show the relationship or commonalities between different sets or groups of things. It consists of one or more overlapping circles or shapes, with each circle representing a set or a group. \n",
    "\n",
    "The areas where the circles overlap show the elements that are shared or common between the sets, while the non-overlapping areas represent elements that are unique to each set.\n",
    "\n",
    "For example, let's say you have a Venn diagram with two circles. One circle represents \"Mammals,\" and the other represents \"Animals with Fur.\" The overlap between the two circles would represent \"Mammals with Fur,\" such as dogs and cats. The parts of each circle outside the overlap would represent animals that are either mammals without fur (like whales) or animals with fur that are not mammals (like porcupines).\n",
    "\n",
    "Venn diagrams are commonly used to illustrate concepts of set theory, compare data, and visualize relationships between different categories or groups, making complex ideas easy to understand at a glance."
   ]
  },
  {
   "cell_type": "markdown",
   "id": "99f8c128",
   "metadata": {},
   "source": [
    "# Q7. For the two given sets A = (2,3,4,5,6,7) & B = (0,2,6,8,10). Find:"
   ]
  },
  {
   "cell_type": "code",
   "execution_count": null,
   "id": "56b42a9b",
   "metadata": {},
   "outputs": [],
   "source": [
    "# (i) A and B\n",
    "a and b = (0,2,3,4,5,6,7,8,10)"
   ]
  },
  {
   "cell_type": "code",
   "execution_count": null,
   "id": "e27ce100",
   "metadata": {},
   "outputs": [],
   "source": [
    "# (ii) A or B \n",
    "A or B = (2,6)"
   ]
  },
  {
   "cell_type": "markdown",
   "id": "c8ec8965",
   "metadata": {},
   "source": [
    "# Q8. What do you understand about skewness in data?"
   ]
  },
  {
   "cell_type": "markdown",
   "id": "a1b78b66",
   "metadata": {},
   "source": [
    "Skewness in data refers to the measure of the asymmetry or lopsidedness of the data's distribution. It indicates whether the data is more concentrated on one side of the mean (average) than the other.\n",
    "\n",
    "In simple terms:\n",
    "- A positively skewed distribution (right-skewed) has a tail that extends to the right, meaning that there are some unusually high values, and the majority of data points are on the left side.\n",
    "- A negatively skewed distribution (left-skewed) has a tail that extends to the left, indicating that there are some unusually low values, and most of the data points are on the right side.\n",
    "- A symmetric distribution has data points that are evenly balanced on both sides of the mean.\n",
    "\n",
    "Skewness is important in statistics because it can help you understand the shape and characteristics of a dataset. For example, in finance, understanding skewness can help assess investment risks, and in quality control, it can indicate potential issues with a manufacturing process. In essence, skewness tells us how the data is distributed, whether it's more concentrated on one side of the average or evenly spread."
   ]
  },
  {
   "cell_type": "markdown",
   "id": "f3dbf665",
   "metadata": {},
   "source": [
    "# Q9. If a data is right skewed then what will be the position of median with respect to mean?"
   ]
  },
  {
   "cell_type": "markdown",
   "id": "aa98d7d3",
   "metadata": {},
   "source": [
    "If a dataset is right-skewed, the position of the median with respect to the mean will be as follows:\n",
    "\n",
    "- The median will be less than the mean.\n",
    "\n",
    "In a right-skewed distribution, the mean is typically pulled to the right (towards the higher values) by the presence of a few exceptionally high values, which make the right tail longer. The median, on the other hand, represents the middle value of the dataset, and in a right-skewed distribution, it is generally closer to the lower values because the longer right tail causes the mean to be greater than the median."
   ]
  },
  {
   "cell_type": "markdown",
   "id": "db7bc148",
   "metadata": {},
   "source": [
    "# Q10. Explain the difference between covariance and correlation. How are these measures used in statistical analysis?"
   ]
  },
  {
   "cell_type": "markdown",
   "id": "758dd535",
   "metadata": {},
   "source": [
    "Covariance and correlation are both measures used in statistical analysis to describe the relationship between two variables, but they have different purposes and properties:\n",
    "\n",
    "1. Covariance:\n",
    "   - Covariance measures the degree to which two variables change together. In other words, it quantifies whether an increase in one variable is associated with an increase or a decrease in another variable.\n",
    "   - It can be positive, negative, or zero:\n",
    "     - A positive covariance means that as one variable increases, the other tends to increase.\n",
    "     - A negative covariance means that as one variable increases, the other tends to decrease.\n",
    "     - A covariance of zero means that there is no linear relationship between the variables.\n",
    "   - The value of covariance is not standardized, which makes it hard to interpret in isolation, especially when dealing with variables on different scales.\n",
    "\n",
    "2. Correlation:\n",
    "   - Correlation, on the other hand, is a standardized measure that quantifies the strength and direction of the linear relationship between two variables. It ranges from -1 to 1.\n",
    "   - A correlation of 1 indicates a perfect positive linear relationship, where an increase in one variable corresponds to an increase in the other.\n",
    "   - A correlation of -1 indicates a perfect negative linear relationship, where an increase in one variable corresponds to a decrease in the other.\n",
    "   - A correlation of 0 means there is no linear relationship between the variables.\n",
    "   - Correlation is more interpretable and easier to compare across different datasets because it's standardized.\n",
    "\n",
    "In summary, covariance measures the degree of co-movement between two variables, but its value is not standardized, which makes it less intuitive for interpretation. Correlation, on the other hand, standardizes the measure, providing a clear and easily interpretable value that quantifies the strength and direction of the linear relationship between two variables. Correlation is often preferred in statistical analysis because it makes it easier to compare the relationships between different pairs of variables, regardless of their scales."
   ]
  },
  {
   "cell_type": "markdown",
   "id": "5fb2e757",
   "metadata": {},
   "source": [
    "# Q11. What is the formula for calculating the sample mean? Provide an example calculation for a dataset."
   ]
  },
  {
   "cell_type": "markdown",
   "id": "125bc3f8",
   "metadata": {},
   "source": [
    "The formula for calculating the sample mean (average) is:\n",
    "\n",
    "Sample Mean = (Sum of all data points) / (Number of data points)\n",
    "\n",
    "Here's an example calculation for a dataset:\n",
    "\n",
    "Let's consider a dataset of exam scores for a sample of 10 students:\n",
    "\n",
    "Scores: 85, 92, 78, 90, 88, 75, 96, 82, 89, 94\n",
    "\n",
    "To calculate the sample mean:\n",
    "\n",
    "1. Add up all the scores:\n",
    "   85 + 92 + 78 + 90 + 88 + 75 + 96 + 82 + 89 + 94 = 889\n",
    "\n",
    "2. Count the number of data points in the dataset, which is 10.\n",
    "\n",
    "3. Use the formula to find the sample mean:\n",
    "   Sample Mean = 889 / 10 = 88.9\n",
    "\n",
    "So, the sample mean for the dataset of exam scores is 88.9."
   ]
  },
  {
   "cell_type": "markdown",
   "id": "93026564",
   "metadata": {},
   "source": [
    "# Q12. For a normal distribution data what is the relationship between its measure of central tendency?"
   ]
  },
  {
   "cell_type": "markdown",
   "id": "ddb74560",
   "metadata": {},
   "source": [
    "For a normal distribution (also known as a Gaussian distribution), the following relationships exist between its measures of central tendency:\n",
    "\n",
    "1. Mean (μ):\n",
    "   - The mean of a normal distribution is equal to the center of the distribution, and it is also the highest point on the normal curve.\n",
    "   - It is the point of symmetry where the left and right tails are balanced.\n",
    "\n",
    "2. Median (also μ):\n",
    "   - The median of a normal distribution is also equal to the mean (μ).\n",
    "   - This is because the normal distribution is perfectly symmetric, so the value that divides the distribution into two equal halves is at the center, which is the mean.\n",
    "\n",
    "3. Mode (also μ):\n",
    "   - The mode of a normal distribution is, once again, equal to the mean (μ).\n",
    "   - In a symmetric distribution like the normal distribution, the highest point on the curve is where the mode is located, and this coincides with the mean.\n",
    "\n",
    "In summary, for a normal distribution, the mean, median, and mode are all equal and located at the center of the distribution, which is a characteristic of its perfect symmetry."
   ]
  },
  {
   "cell_type": "markdown",
   "id": "3feb8b77",
   "metadata": {},
   "source": [
    "# Q13. How is covariance different from correlation?"
   ]
  },
  {
   "cell_type": "markdown",
   "id": "71a42600",
   "metadata": {},
   "source": [
    "Covariance and correlation are both measures used to describe the relationship between two variables, but they have important differences:\n",
    "\n",
    "Covariance:\n",
    "1. Covariance measures the degree to which two variables change together. It indicates whether an increase in one variable is associated with an increase or a decrease in the other variable.\n",
    "2. It can be positive, negative, or zero:\n",
    "   - A positive covariance means that as one variable increases, the other tends to increase.\n",
    "   - A negative covariance means that as one variable increases, the other tends to decrease.\n",
    "   - A covariance of zero means that there is no linear relationship between the variables.\n",
    "3. The value of covariance is not standardized, which makes it hard to interpret in isolation, especially when dealing with variables on different scales.\n",
    "4. It is affected by the units of the variables being measured, making it challenging to compare across different datasets.\n",
    "\n",
    "Correlation:\n",
    "1. Correlation is a standardized measure that quantifies the strength and direction of the linear relationship between two variables. It ranges from -1 to 1.\n",
    "2. A correlation of 1 indicates a perfect positive linear relationship, where an increase in one variable corresponds to an increase in the other.\n",
    "3. A correlation of -1 indicates a perfect negative linear relationship, where an increase in one variable corresponds to a decrease in the other.\n",
    "4. A correlation of 0 means there is no linear relationship between the variables.\n",
    "5. Correlation is more interpretable and easier to compare across different datasets because it's standardized.\n",
    "6. Correlation is not affected by the units of the variables, making it a more useful measure for comparing the strength and direction of relationships.\n",
    "\n",
    "In summary, while both covariance and correlation are used to describe the relationship between two variables, correlation is preferred in most cases because it's standardized, making it easier to interpret and compare. Covariance is less interpretable on its own and is more influenced by the units of measurement, making it less suitable for comparing relationships across different datasets."
   ]
  },
  {
   "cell_type": "markdown",
   "id": "ae86288d",
   "metadata": {},
   "source": [
    "# Q14. How do outliers affect measures of central tendency and dispersion? Provide an example."
   ]
  },
  {
   "cell_type": "markdown",
   "id": "c1875d17",
   "metadata": {},
   "source": [
    "Outliers can significantly affect measures of central tendency (like the mean, median, and mode) and measures of dispersion (like the range, variance, and standard deviation). Here's how outliers impact these measures:\n",
    "\n",
    "1. Measures of Central Tendency:\n",
    "   - **Mean**: Outliers, especially extreme values, can pull the mean in their direction. If you have one or more extremely high or low values, the mean can be significantly influenced.\n",
    "   - **Median**: The median is less affected by outliers since it represents the middle value. It can be a better measure of central tendency when dealing with outliers.\n",
    "   - **Mode**: The mode may remain unchanged or only slightly affected by outliers if they are not representative of the majority of the data.\n",
    "\n",
    "2. Measures of Dispersion:\n",
    "   - **Range**: Outliers can substantially expand the range, making it wider than it would be without the outliers.\n",
    "   - **Variance and Standard Deviation**: Outliers can increase the variability within the dataset, leading to higher variance and standard deviation values. This is because these measures are sensitive to the distance between each data point and the mean.\n",
    "\n",
    "Example:\n",
    "Consider a dataset of salaries for employees in a company:\n",
    "\n",
    "Salary Data: $40,000, $45,000, $48,000, $50,000, $55,000, $60,000, $75,000, $85,000, $1,000,000\n",
    "\n",
    "- Mean without the outlier: ($40,000 + $45,000 + $48,000 + $50,000 + $55,000 + $60,000 + $75,000 + $85,000) / 8 = $62,375\n",
    "- Mean with the outlier: ($40,000 + $45,000 + $48,000 + $50,000 + $55,000 + $60,000 + $75,000 + $85,000 + $1,000,000) / 9 = $155,250\n",
    "\n",
    "The presence of the extreme outlier ($1,000,000) significantly inflates the mean. The median, which is unaffected by the specific value of the outlier, would still be $60,000. Similarly, the variance and standard deviation would be much higher with the outlier, indicating greater dispersion.\n",
    "\n",
    "So, outliers can distort the interpretation of central tendency and dispersion measures, making it important to consider their impact when analyzing data."
   ]
  },
  {
   "cell_type": "code",
   "execution_count": null,
   "id": "af939671",
   "metadata": {},
   "outputs": [],
   "source": []
  }
 ],
 "metadata": {
  "kernelspec": {
   "display_name": "Python 3 (ipykernel)",
   "language": "python",
   "name": "python3"
  },
  "language_info": {
   "codemirror_mode": {
    "name": "ipython",
    "version": 3
   },
   "file_extension": ".py",
   "mimetype": "text/x-python",
   "name": "python",
   "nbconvert_exporter": "python",
   "pygments_lexer": "ipython3",
   "version": "3.10.9"
  }
 },
 "nbformat": 4,
 "nbformat_minor": 5
}
